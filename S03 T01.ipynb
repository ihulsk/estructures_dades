{
 "cells": [
  {
   "cell_type": "code",
   "execution_count": 2,
   "id": "05992393",
   "metadata": {},
   "outputs": [],
   "source": [
    "quarters = [[\"janer\", \"febre\", \"març\"],[\"abril\", \"maig\", \"juny\"],[\"juliol\", \"agost\", \"setembre\"],[\"octobre\", \"novembre\", \"decembre\"]]"
   ]
  },
  {
   "cell_type": "code",
   "execution_count": 29,
   "id": "760ea74d",
   "metadata": {},
   "outputs": [
    {
     "name": "stdout",
     "output_type": "stream",
     "text": [
      "febre\n",
      "['janer', 'febre', 'març']\n",
      "setembre octobre\n"
     ]
    }
   ],
   "source": [
    "print(quarters[0][1])\n",
    "print(quarters[0])\n",
    "print(quarters[2][2], quarters[3][0])"
   ]
  },
  {
   "cell_type": "code",
   "execution_count": 106,
   "id": "4a64940b",
   "metadata": {},
   "outputs": [
    {
     "name": "stdout",
     "output_type": "stream",
     "text": [
      "Quants números hi ha? 927\n",
      "Quantes vegades apareix el número 3? 1\n",
      "Quantes vegades apareixen els nombres 3 i 4? 2\n",
      "Quin és el número més gran? 999\n",
      "Quins són els 3 números més petits? [1, 2, 3]\n",
      "Quin és el rang d’aquesta llista? 998 or 998\n"
     ]
    }
   ],
   "source": [
    "import random\n",
    " \n",
    "nombres = random.sample(range(1, 1000), random.randint(1,1000))\n",
    "\n",
    "print(\"Quants números hi ha?\", len(nombres))\n",
    "print(\"Quantes vegades apareix el número 3?\", nombres.count(3))\n",
    "print(\"Quantes vegades apareixen els nombres 3 i 4?\", nombres.count(3) + nombres.count(4))\n",
    "print(\"Quin és el número més gran?\", max(nombres))\n",
    "print(\"Quins són els 3 números més petits?\", sorted(nombres)[:3])\n",
    "print(\"Quin és el rang d’aquesta llista?\", len(range(min(nombres), max(nombres))), \"or\", max(nombres) - min(nombres))"
   ]
  },
  {
   "cell_type": "code",
   "execution_count": 184,
   "id": "1940c461",
   "metadata": {},
   "outputs": [
    {
     "name": "stdout",
     "output_type": "stream",
     "text": [
      "Quant han costat les peres en total? 1.98 €\n",
      "Quantes fruites hem comprat en total? 30\n",
      "Quina és la fruita més cara? Aranja\n"
     ]
    }
   ],
   "source": [
    "compra = { \n",
    "    \"Pomes\" : {\"Qty\": 5, \"€\": 0.42}, \n",
    "    \"Peres\" : {\"Qty\": 3, \"€\": 0.66},\n",
    "    \"Aranja\" : {\"Qty\": 2, \"€\": 0.99}}\n",
    "\n",
    "# Afegeix alguna fruita més\n",
    "compra[\"Maduixa\"] = {\"Qty\": 20, \"€\": 0.10}\n",
    "\n",
    "# Quant han costat les peres en total?\n",
    "print(\"Quant han costat les peres en total?\", compra.get(\"Peres\").get(\"Qty\") * compra.get(\"Peres\").get(\"€\"), \"€\")\n",
    "\n",
    "# Quantes fruites hem comprat en total?\n",
    "result = 0\n",
    "for x in compra:\n",
    "    result = result + compra.get(x).get(\"Qty\") \n",
    "print(\"Quantes fruites hem comprat en total?\", result)\n",
    "\n",
    "# Quina és la fruita més cara?\n",
    "preus = []\n",
    "for x in compra:\n",
    "    preus.append(compra.get(x).get(\"€\"))\n",
    "\n",
    "for key, value in compra.items():\n",
    "    if value.get(\"€\")== max(preus):\n",
    "        print(\"Quina és la fruita més cara?\", key)"
   ]
  }
 ],
 "metadata": {
  "kernelspec": {
   "display_name": "Python 3",
   "language": "python",
   "name": "python3"
  },
  "language_info": {
   "codemirror_mode": {
    "name": "ipython",
    "version": 3
   },
   "file_extension": ".py",
   "mimetype": "text/x-python",
   "name": "python",
   "nbconvert_exporter": "python",
   "pygments_lexer": "ipython3",
   "version": "3.8.8"
  },
  "toc": {
   "base_numbering": 1,
   "nav_menu": {},
   "number_sections": true,
   "sideBar": true,
   "skip_h1_title": false,
   "title_cell": "Table of Contents",
   "title_sidebar": "Contents",
   "toc_cell": false,
   "toc_position": {},
   "toc_section_display": true,
   "toc_window_display": false
  }
 },
 "nbformat": 4,
 "nbformat_minor": 5
}
